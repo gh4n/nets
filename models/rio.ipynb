{
 "cells": [
  {
   "cell_type": "code",
   "execution_count": 75,
   "metadata": {},
   "outputs": [],
   "source": [
    "import pandas as pd\n",
    "import numpy as np\n",
    "import matplotlib.pyplot as plt\n",
    "import keras\n",
    "from keras.models import Model\n",
    "from keras.layers import Dense, Dropout, Input, Conv2D, BatchNormalization, Embedding, Reshape, Permute, MaxPool1D, Concatenate,\\\n",
    "GRU, Bidirectional, Dot, Activation, RepeatVector, Flatten, Multiply, Lambda\n",
    "from glob import glob\n",
    "from keras.preprocessing.text import Tokenizer\n",
    "from keras.preprocessing.sequence import pad_sequences\n",
    "from keras.utils import to_categorical\n",
    "from keras.optimizers import Adam\n",
    "\n",
    "from nltk.corpus import stopwords\n",
    "\n",
    "stopwords_set = set(stopwords.words('English'))\n",
    "from sklearn.model_selection import train_test_split\n",
    "import tensorflow as tf"
   ]
  },
  {
   "cell_type": "code",
   "execution_count": 8,
   "metadata": {},
   "outputs": [],
   "source": [
    "from sklearn.metrics import f1_score\n",
    "\n",
    "\n",
    "def keras_f1(y_true, y_pred):\n",
    "    return f1_score(np.argmax(y_true, axis=1), np.argmax(y_pred, axis=1), average='weighted')"
   ]
  },
  {
   "cell_type": "code",
   "execution_count": 83,
   "metadata": {},
   "outputs": [],
   "source": [
    "df = pd.read_csv('../data/rio_kb_article_dataset.csv', encoding='latin1')[['short_description', 'category']]\n",
    "#df = pd.read_csv('deepdive-bootcamp.csv', encoding='latin1')[['short_description', 'Category']]\n",
    "df.columns =['short_description', 'category']\n",
    "#df.loc[pd.isnull(df.category), 'category'] = 'Misc'\n",
    "df.dropna(inplace=True)\n",
    "\n",
    "def train_test_split(df, test_size=0.5):\n",
    "    if 0.5 >= test_size >= 0:\n",
    "        time = 1 // test_size\n",
    "        training_set = df[df.index % time == 0]\n",
    "\n",
    "        testing_set = df[df.index % time != 0]\n",
    "\n",
    "        return training_set, testing_set\n",
    "    \n",
    "df_train, df_test = train_test_split(df)"
   ]
  },
  {
   "cell_type": "code",
   "execution_count": 82,
   "metadata": {},
   "outputs": [],
   "source": [
    "vocab_size = 2000\n",
    "embedding_size = 100\n",
    "seq_len = 15\n",
    "categories = 9\n",
    "\n",
    "tokenizer = Tokenizer(num_words=vocab_size, oov_token=None)\n",
    "tokenizer.fit_on_texts(df_train.short_description)\n",
    "X_train = pad_sequences(tokenizer.texts_to_sequences(df_train.short_description), maxlen=seq_len)\n",
    "X_test = pad_sequences(tokenizer.texts_to_sequences(df_test.short_description), maxlen=seq_len)\n",
    "\n",
    "y_train = to_categorical(pd.Categorical(df_train.category).codes, categories)\n",
    "y_test = to_categorical(pd.Categorical(df_test.category).codes, categories)\n"
   ]
  },
  {
   "cell_type": "code",
   "execution_count": 72,
   "metadata": {},
   "outputs": [
    {
     "name": "stdout",
     "output_type": "stream",
     "text": [
      "__________________________________________________________________________________________________\n",
      "Layer (type)                    Output Shape         Param #     Connected to                     \n",
      "==================================================================================================\n",
      "input_15 (InputLayer)           (None, 15)           0                                            \n",
      "__________________________________________________________________________________________________\n",
      "embedding_15 (Embedding)        (None, 15, 100)      200000      input_15[0][0]                   \n",
      "__________________________________________________________________________________________________\n",
      "reshape_166 (Reshape)           (None, 15, 100, 1)   0           embedding_15[0][0]               \n",
      "__________________________________________________________________________________________________\n",
      "reshape_169 (Reshape)           (None, 15, 100, 1)   0           embedding_15[0][0]               \n",
      "__________________________________________________________________________________________________\n",
      "reshape_172 (Reshape)           (None, 15, 100, 1)   0           embedding_15[0][0]               \n",
      "__________________________________________________________________________________________________\n",
      "reshape_175 (Reshape)           (None, 15, 100, 1)   0           embedding_15[0][0]               \n",
      "__________________________________________________________________________________________________\n",
      "conv2d_56 (Conv2D)              (None, 14, 1, 10)    2010        reshape_166[0][0]                \n",
      "__________________________________________________________________________________________________\n",
      "conv2d_57 (Conv2D)              (None, 13, 1, 10)    3010        reshape_169[0][0]                \n",
      "__________________________________________________________________________________________________\n",
      "conv2d_58 (Conv2D)              (None, 12, 1, 10)    4010        reshape_172[0][0]                \n",
      "__________________________________________________________________________________________________\n",
      "conv2d_59 (Conv2D)              (None, 11, 1, 10)    5010        reshape_175[0][0]                \n",
      "__________________________________________________________________________________________________\n",
      "reshape_167 (Reshape)           (None, 14, 10)       0           conv2d_56[0][0]                  \n",
      "__________________________________________________________________________________________________\n",
      "reshape_170 (Reshape)           (None, 13, 10)       0           conv2d_57[0][0]                  \n",
      "__________________________________________________________________________________________________\n",
      "reshape_173 (Reshape)           (None, 12, 10)       0           conv2d_58[0][0]                  \n",
      "__________________________________________________________________________________________________\n",
      "reshape_176 (Reshape)           (None, 11, 10)       0           conv2d_59[0][0]                  \n",
      "__________________________________________________________________________________________________\n",
      "max_pooling1d_56 (MaxPooling1D) (None, 1, 10)        0           reshape_167[0][0]                \n",
      "__________________________________________________________________________________________________\n",
      "max_pooling1d_57 (MaxPooling1D) (None, 1, 10)        0           reshape_170[0][0]                \n",
      "__________________________________________________________________________________________________\n",
      "max_pooling1d_58 (MaxPooling1D) (None, 1, 10)        0           reshape_173[0][0]                \n",
      "__________________________________________________________________________________________________\n",
      "max_pooling1d_59 (MaxPooling1D) (None, 1, 10)        0           reshape_176[0][0]                \n",
      "__________________________________________________________________________________________________\n",
      "reshape_168 (Reshape)           (None, 10)           0           max_pooling1d_56[0][0]           \n",
      "__________________________________________________________________________________________________\n",
      "reshape_171 (Reshape)           (None, 10)           0           max_pooling1d_57[0][0]           \n",
      "__________________________________________________________________________________________________\n",
      "reshape_174 (Reshape)           (None, 10)           0           max_pooling1d_58[0][0]           \n",
      "__________________________________________________________________________________________________\n",
      "reshape_177 (Reshape)           (None, 10)           0           max_pooling1d_59[0][0]           \n",
      "__________________________________________________________________________________________________\n",
      "dropout_56 (Dropout)            (None, 10)           0           reshape_168[0][0]                \n",
      "__________________________________________________________________________________________________\n",
      "dropout_57 (Dropout)            (None, 10)           0           reshape_171[0][0]                \n",
      "__________________________________________________________________________________________________\n",
      "dropout_58 (Dropout)            (None, 10)           0           reshape_174[0][0]                \n",
      "__________________________________________________________________________________________________\n",
      "dropout_59 (Dropout)            (None, 10)           0           reshape_177[0][0]                \n",
      "__________________________________________________________________________________________________\n",
      "concatenate_15 (Concatenate)    (None, 40)           0           dropout_56[0][0]                 \n",
      "                                                                 dropout_57[0][0]                 \n",
      "                                                                 dropout_58[0][0]                 \n",
      "                                                                 dropout_59[0][0]                 \n",
      "__________________________________________________________________________________________________\n",
      "dense_15 (Dense)                (None, 8)            328         concatenate_15[0][0]             \n",
      "==================================================================================================\n",
      "Total params: 214,368\n",
      "Trainable params: 214,368\n",
      "Non-trainable params: 0\n",
      "__________________________________________________________________________________________________\n"
     ]
    }
   ],
   "source": [
    "\n",
    "\n",
    "kernel_sizes = [2, 3, 4, 5]\n",
    "filters = 10\n",
    "\n",
    "\n",
    "\n",
    "sentences = Input(shape=(seq_len, ))\n",
    "embedded_sentences = Embedding(vocab_size, embedding_size)(sentences)\n",
    "\n",
    "\n",
    "feature_list = []\n",
    "for kernel_size in kernel_sizes:\n",
    "    reshaped_embedded_sentences = Reshape(target_shape=(seq_len, embedding_size, 1))(embedded_sentences)\n",
    "    conv_filters = Conv2D(filters, kernel_size=(kernel_size, embedding_size), \n",
    "                          padding='valid', activation='relu')(reshaped_embedded_sentences)\n",
    "    reshaped_filters = Reshape([seq_len - kernel_size + 1, filters])(conv_filters)\n",
    "    maxpooled_filters = MaxPool1D(pool_size= seq_len - kernel_size + 1)(reshaped_filters)\n",
    "    final_filters = Reshape((filters, ))(maxpooled_filters)\n",
    "    dropout_filters = Dropout(0)(final_filters)\n",
    "    feature_list.append(dropout_filters)\n",
    "    \n",
    "feature_vector = Concatenate(axis=1)(feature_list)\n",
    "output = Dense(categories, activation='softmax')(feature_vector)\n",
    "\n",
    "model = Model(inputs=sentences, outputs=output)\n",
    "model.summary()"
   ]
  },
  {
   "cell_type": "code",
   "execution_count": 73,
   "metadata": {},
   "outputs": [],
   "source": [
    "model.compile(Adam(0.0007), loss='categorical_crossentropy', metrics=['accuracy'])"
   ]
  },
  {
   "cell_type": "code",
   "execution_count": 74,
   "metadata": {},
   "outputs": [
    {
     "name": "stdout",
     "output_type": "stream",
     "text": [
      "Train on 3490 samples, validate on 3485 samples\n",
      "Epoch 1/40\n",
      "3490/3490 [==============================] - 5s 1ms/step - loss: 1.1606 - acc: 0.6702 - val_loss: 0.4732 - val_acc: 0.8362\n",
      "Epoch 2/40\n",
      "3490/3490 [==============================] - 3s 788us/step - loss: 0.4162 - acc: 0.8599 - val_loss: 0.3882 - val_acc: 0.8585\n",
      "Epoch 3/40\n",
      "3490/3490 [==============================] - 3s 784us/step - loss: 0.3597 - acc: 0.8779 - val_loss: 0.3783 - val_acc: 0.8648\n",
      "Epoch 4/40\n",
      "3490/3490 [==============================] - 3s 785us/step - loss: 0.3238 - acc: 0.8885 - val_loss: 0.3544 - val_acc: 0.8648\n",
      "Epoch 5/40\n",
      "3490/3490 [==============================] - 3s 809us/step - loss: 0.2842 - acc: 0.8951 - val_loss: 0.3404 - val_acc: 0.8786\n",
      "Epoch 6/40\n",
      "3490/3490 [==============================] - 3s 813us/step - loss: 0.2501 - acc: 0.9115 - val_loss: 0.3313 - val_acc: 0.8778\n",
      "Epoch 7/40\n",
      "3490/3490 [==============================] - 3s 822us/step - loss: 0.2281 - acc: 0.9158 - val_loss: 0.3361 - val_acc: 0.8809\n",
      "Epoch 8/40\n",
      "3490/3490 [==============================] - 3s 803us/step - loss: 0.2094 - acc: 0.9223 - val_loss: 0.3369 - val_acc: 0.8737\n",
      "Epoch 9/40\n",
      "3490/3490 [==============================] - 3s 812us/step - loss: 0.1965 - acc: 0.9272 - val_loss: 0.3495 - val_acc: 0.8732\n",
      "Epoch 10/40\n",
      "3490/3490 [==============================] - 3s 806us/step - loss: 0.1852 - acc: 0.9307 - val_loss: 0.3495 - val_acc: 0.8723\n",
      "Epoch 11/40\n",
      "3490/3490 [==============================] - 3s 801us/step - loss: 0.1765 - acc: 0.9307 - val_loss: 0.3624 - val_acc: 0.8746\n",
      "Epoch 12/40\n",
      "3490/3490 [==============================] - 3s 817us/step - loss: 0.1689 - acc: 0.9332 - val_loss: 0.3594 - val_acc: 0.8752\n",
      "Epoch 13/40\n",
      "3490/3490 [==============================] - 3s 797us/step - loss: 0.1622 - acc: 0.9375 - val_loss: 0.3717 - val_acc: 0.8692\n",
      "Epoch 14/40\n",
      "3490/3490 [==============================] - 3s 819us/step - loss: 0.1543 - acc: 0.9390 - val_loss: 0.3750 - val_acc: 0.8712\n",
      "Epoch 15/40\n",
      "3490/3490 [==============================] - 3s 833us/step - loss: 0.1503 - acc: 0.9370 - val_loss: 0.3835 - val_acc: 0.8686\n",
      "Epoch 16/40\n",
      "3490/3490 [==============================] - 3s 823us/step - loss: 0.1485 - acc: 0.9387 - val_loss: 0.3804 - val_acc: 0.8746\n",
      "Epoch 17/40\n",
      "3490/3490 [==============================] - 3s 816us/step - loss: 0.1410 - acc: 0.9384 - val_loss: 0.3912 - val_acc: 0.8712\n",
      "Epoch 18/40\n",
      "3490/3490 [==============================] - 3s 811us/step - loss: 0.1372 - acc: 0.9438 - val_loss: 0.3965 - val_acc: 0.8717\n",
      "Epoch 19/40\n",
      "3490/3490 [==============================] - 3s 818us/step - loss: 0.1328 - acc: 0.9433 - val_loss: 0.4040 - val_acc: 0.8712\n",
      "Epoch 20/40\n",
      "3490/3490 [==============================] - 3s 823us/step - loss: 0.1296 - acc: 0.9493 - val_loss: 0.4104 - val_acc: 0.8694\n",
      "Epoch 21/40\n",
      "3490/3490 [==============================] - 3s 804us/step - loss: 0.1255 - acc: 0.9470 - val_loss: 0.4180 - val_acc: 0.8735\n",
      "Epoch 22/40\n",
      "3490/3490 [==============================] - 3s 819us/step - loss: 0.1241 - acc: 0.9476 - val_loss: 0.4231 - val_acc: 0.8697\n",
      "Epoch 23/40\n",
      "3490/3490 [==============================] - 3s 814us/step - loss: 0.1209 - acc: 0.9513 - val_loss: 0.4454 - val_acc: 0.8743\n",
      "Epoch 24/40\n",
      "3490/3490 [==============================] - 3s 797us/step - loss: 0.1247 - acc: 0.9487 - val_loss: 0.4347 - val_acc: 0.8732\n",
      "Epoch 25/40\n",
      "3490/3490 [==============================] - 3s 811us/step - loss: 0.1227 - acc: 0.9496 - val_loss: 0.4388 - val_acc: 0.8749\n",
      "Epoch 26/40\n",
      "3490/3490 [==============================] - 3s 847us/step - loss: 0.1144 - acc: 0.9536 - val_loss: 0.4395 - val_acc: 0.8703\n",
      "Epoch 27/40\n",
      "3490/3490 [==============================] - 3s 814us/step - loss: 0.1138 - acc: 0.9556 - val_loss: 0.4516 - val_acc: 0.8689\n",
      "Epoch 28/40\n",
      "3490/3490 [==============================] - 3s 826us/step - loss: 0.1132 - acc: 0.9559 - val_loss: 0.4559 - val_acc: 0.8775\n",
      "Epoch 29/40\n",
      "3490/3490 [==============================] - 3s 813us/step - loss: 0.1097 - acc: 0.9550 - val_loss: 0.4558 - val_acc: 0.8700\n",
      "Epoch 30/40\n",
      "3490/3490 [==============================] - 3s 830us/step - loss: 0.1084 - acc: 0.9544 - val_loss: 0.4630 - val_acc: 0.8703\n",
      "Epoch 31/40\n",
      "3490/3490 [==============================] - 3s 800us/step - loss: 0.1136 - acc: 0.9530 - val_loss: 0.4742 - val_acc: 0.8680\n",
      "Epoch 32/40\n",
      "3490/3490 [==============================] - 3s 788us/step - loss: 0.1174 - acc: 0.9487 - val_loss: 0.4658 - val_acc: 0.8723\n",
      "Epoch 33/40\n",
      "3490/3490 [==============================] - 3s 802us/step - loss: 0.1051 - acc: 0.9564 - val_loss: 0.4711 - val_acc: 0.8720\n",
      "Epoch 34/40\n",
      "3490/3490 [==============================] - 3s 795us/step - loss: 0.1072 - acc: 0.9559 - val_loss: 0.4778 - val_acc: 0.8746\n",
      "Epoch 35/40\n",
      "3490/3490 [==============================] - 3s 795us/step - loss: 0.1047 - acc: 0.9556 - val_loss: 0.4845 - val_acc: 0.8689\n",
      "Epoch 36/40\n",
      "3490/3490 [==============================] - 3s 916us/step - loss: 0.1023 - acc: 0.9564 - val_loss: 0.5004 - val_acc: 0.8623\n",
      "Epoch 37/40\n",
      "3490/3490 [==============================] - 3s 923us/step - loss: 0.1054 - acc: 0.9556 - val_loss: 0.4872 - val_acc: 0.8735\n",
      "Epoch 38/40\n",
      "3490/3490 [==============================] - 3s 941us/step - loss: 0.1022 - acc: 0.9567 - val_loss: 0.4972 - val_acc: 0.8717\n",
      "Epoch 39/40\n",
      "3490/3490 [==============================] - 3s 934us/step - loss: 0.1042 - acc: 0.9576 - val_loss: 0.4940 - val_acc: 0.8740\n",
      "Epoch 40/40\n",
      "3490/3490 [==============================] - 3s 887us/step - loss: 0.1004 - acc: 0.9579 - val_loss: 0.5021 - val_acc: 0.8706\n"
     ]
    },
    {
     "data": {
      "text/plain": [
       "<keras.callbacks.History at 0x1ad24263940>"
      ]
     },
     "execution_count": 74,
     "metadata": {},
     "output_type": "execute_result"
    }
   ],
   "source": [
    "model.fit(x=X_train, y=y_train, batch_size=32, epochs=40, validation_data=(X_test, y_test))"
   ]
  },
  {
   "cell_type": "code",
   "execution_count": 52,
   "metadata": {},
   "outputs": [
    {
     "name": "stderr",
     "output_type": "stream",
     "text": [
      "C:\\Users\\haika\\Anaconda3\\envs\\dl\\lib\\site-packages\\sklearn\\metrics\\classification.py:1135: UndefinedMetricWarning: F-score is ill-defined and being set to 0.0 in labels with no predicted samples.\n",
      "  'precision', 'predicted', average, warn_for)\n"
     ]
    },
    {
     "data": {
      "text/plain": [
       "0.8731732036235087"
      ]
     },
     "execution_count": 52,
     "metadata": {},
     "output_type": "execute_result"
    }
   ],
   "source": [
    "keras_f1(y_test, model.predict(X_test))"
   ]
  },
  {
   "cell_type": "code",
   "execution_count": 46,
   "metadata": {},
   "outputs": [
    {
     "data": {
      "text/plain": [
       "{'User Access': 7,\n",
       " 'Software': 6,\n",
       " 'Other': 5,\n",
       " 'Hardware': 2,\n",
       " 'Network': 4,\n",
       " 'Information': 3,\n",
       " 'Database': 1,\n",
       " 'Backup': 0}"
      ]
     },
     "execution_count": 46,
     "metadata": {},
     "output_type": "execute_result"
    }
   ],
   "source": [
    "def get_mapping(x):\n",
    "    c = pd.Categorical(x)\n",
    "    d = {}\n",
    "    for cat, code in zip(x, c.codes):\n",
    "        d[cat] = code\n",
    "    return d\n",
    "\n",
    "get_mapping(df_train.category)"
   ]
  },
  {
   "cell_type": "code",
   "execution_count": 47,
   "metadata": {},
   "outputs": [],
   "source": [
    "model.save('rio-cnn.h5')"
   ]
  },
  {
   "cell_type": "code",
   "execution_count": 104,
   "metadata": {},
   "outputs": [
    {
     "data": {
      "text/plain": [
       "array([1, 1, 0, ..., 0, 1, 1], dtype=int8)"
      ]
     },
     "execution_count": 104,
     "metadata": {},
     "output_type": "execute_result"
    }
   ],
   "source": [
    "pd.Categorical(df.category).codes"
   ]
  },
  {
   "cell_type": "code",
   "execution_count": 105,
   "metadata": {},
   "outputs": [
    {
     "data": {
      "text/plain": [
       "1                                Application\n",
       "2                                Application\n",
       "3        Access Issues / Security Enablement\n",
       "4                                Application\n",
       "5        Access Issues / Security Enablement\n",
       "6        Access Issues / Security Enablement\n",
       "7        Access Issues / Security Enablement\n",
       "8                                Application\n",
       "9        Access Issues / Security Enablement\n",
       "10                               Application\n",
       "11       Access Issues / Security Enablement\n",
       "12       Access Issues / Security Enablement\n",
       "13       Access Issues / Security Enablement\n",
       "15       Access Issues / Security Enablement\n",
       "16       Access Issues / Security Enablement\n",
       "17                               Application\n",
       "18                               Application\n",
       "19                                       H/W\n",
       "21       Access Issues / Security Enablement\n",
       "22       Access Issues / Security Enablement\n",
       "23                               Application\n",
       "24       Access Issues / Security Enablement\n",
       "25       Access Issues / Security Enablement\n",
       "26       Access Issues / Security Enablement\n",
       "27                               Application\n",
       "28       Access Issues / Security Enablement\n",
       "29                                       H/W\n",
       "30       Access Issues / Security Enablement\n",
       "31       Access Issues / Security Enablement\n",
       "32       Access Issues / Security Enablement\n",
       "                        ...                 \n",
       "34085                            Application\n",
       "34086    Access Issues / Security Enablement\n",
       "34087                            Application\n",
       "34088                            Application\n",
       "34089    Access Issues / Security Enablement\n",
       "34090                            Application\n",
       "34091    Access Issues / Security Enablement\n",
       "34092                            Application\n",
       "34093    Access Issues / Security Enablement\n",
       "34094                            Application\n",
       "34095                            Application\n",
       "34096    Access Issues / Security Enablement\n",
       "34097    Access Issues / Security Enablement\n",
       "34098    Access Issues / Security Enablement\n",
       "34099    Access Issues / Security Enablement\n",
       "34100                                    N/W\n",
       "34101                            Application\n",
       "34102    Access Issues / Security Enablement\n",
       "34103    Access Issues / Security Enablement\n",
       "34104    Access Issues / Security Enablement\n",
       "34105    Access Issues / Security Enablement\n",
       "34106                            Application\n",
       "34107    Access Issues / Security Enablement\n",
       "34108    Access Issues / Security Enablement\n",
       "34109    Access Issues / Security Enablement\n",
       "34110                            Application\n",
       "34111    Access Issues / Security Enablement\n",
       "34112    Access Issues / Security Enablement\n",
       "34113                            Application\n",
       "34114                            Application\n",
       "Name: category, Length: 32572, dtype: object"
      ]
     },
     "execution_count": 105,
     "metadata": {},
     "output_type": "execute_result"
    }
   ],
   "source": [
    "df.category"
   ]
  },
  {
   "cell_type": "code",
   "execution_count": 87,
   "metadata": {},
   "outputs": [
    {
     "name": "stdout",
     "output_type": "stream",
     "text": [
      "_________________________________________________________________\n",
      "Layer (type)                 Output Shape              Param #   \n",
      "=================================================================\n",
      "input_24 (InputLayer)        (None, 15)                0         \n",
      "_________________________________________________________________\n",
      "embedding_24 (Embedding)     (None, 15, 100)           200000    \n",
      "_________________________________________________________________\n",
      "bidirectional_32 (Bidirectio (None, 15, 256)           175872    \n",
      "_________________________________________________________________\n",
      "bidirectional_33 (Bidirectio (None, 256)               295680    \n",
      "_________________________________________________________________\n",
      "dense_38 (Dense)             (None, 7)                 1799      \n",
      "=================================================================\n",
      "Total params: 673,351\n",
      "Trainable params: 673,351\n",
      "Non-trainable params: 0\n",
      "_________________________________________________________________\n"
     ]
    }
   ],
   "source": [
    "sentences = Input(shape=(seq_len, ))\n",
    "embedded_sentences = Embedding(vocab_size, embedding_size)(sentences)\n",
    "gru1 = Bidirectional(GRU(128, return_sequences=True, recurrent_dropout=0.6))(embedded_sentences)\n",
    "gru2 = Bidirectional(GRU(128, recurrent_dropout=0.6))(gru1)\n",
    "softmax = Dense(categories, activation='softmax')(gru2)\n",
    "\n",
    "gru_model = Model(inputs=sentences, outputs=softmax)\n",
    "gru_model.summary()\n"
   ]
  },
  {
   "cell_type": "code",
   "execution_count": null,
   "metadata": {},
   "outputs": [],
   "source": []
  },
  {
   "cell_type": "code",
   "execution_count": null,
   "metadata": {},
   "outputs": [],
   "source": [
    "def batch_generator(X, y, batch_size=32):\n",
    "    mask = np.random.randint(0, X.shape[0], batch_size)\n",
    "    return X[mask], y[mask]"
   ]
  },
  {
   "cell_type": "code",
   "execution_count": 75,
   "metadata": {},
   "outputs": [
    {
     "name": "stdout",
     "output_type": "stream",
     "text": [
      "__________________________________________________________________________________________________\n",
      "Layer (type)                    Output Shape         Param #     Connected to                     \n",
      "==================================================================================================\n",
      "input_22 (InputLayer)           (None, 15)           0                                            \n",
      "__________________________________________________________________________________________________\n",
      "embedding_22 (Embedding)        (None, 15, 100)      200000      input_22[0][0]                   \n",
      "__________________________________________________________________________________________________\n",
      "bidirectional_30 (Bidirectional (None, 15, 256)      175872      embedding_22[0][0]               \n",
      "__________________________________________________________________________________________________\n",
      "bidirectional_31 (Bidirectional (None, 15, 256)      295680      bidirectional_30[0][0]           \n",
      "__________________________________________________________________________________________________\n",
      "dense_35 (Dense)                (None, 15, 1)        257         bidirectional_31[0][0]           \n",
      "__________________________________________________________________________________________________\n",
      "flatten_19 (Flatten)            (None, 15)           0           dense_35[0][0]                   \n",
      "__________________________________________________________________________________________________\n",
      "lambda_16 (Lambda)              (None, 15)           0           flatten_19[0][0]                 \n",
      "__________________________________________________________________________________________________\n",
      "permute_16 (Permute)            (None, 256, 15)      0           bidirectional_30[0][0]           \n",
      "__________________________________________________________________________________________________\n",
      "activation_19 (Activation)      (None, 15)           0           lambda_16[0][0]                  \n",
      "__________________________________________________________________________________________________\n",
      "lambda_17 (Lambda)              (None, 256)          0           permute_16[0][0]                 \n",
      "                                                                 activation_19[0][0]              \n",
      "__________________________________________________________________________________________________\n",
      "dense_36 (Dense)                (None, 8)            2056        lambda_17[0][0]                  \n",
      "==================================================================================================\n",
      "Total params: 673,865\n",
      "Trainable params: 673,865\n",
      "Non-trainable params: 0\n",
      "__________________________________________________________________________________________________\n"
     ]
    }
   ],
   "source": [
    "import keras.backend as K\n",
    "batch_size = 32\n",
    "\n",
    "sentences = Input(shape=(seq_len, ))\n",
    "embedded_sentences = Embedding(vocab_size, embedding_size)(sentences)\n",
    "gru1 = Bidirectional(GRU(128, return_sequences=True, recurrent_dropout=0.8))(embedded_sentences)\n",
    "gru2 = Bidirectional(GRU(128, return_sequences=True, recurrent_dropout=0.8))(gru1)\n",
    "\n",
    "x_t = Flatten()(Dense(1)(gru2))\n",
    "y_t = Lambda(lambda x: x / 16)(x_t)\n",
    "a_t = Activation('softmax')(y_t)\n",
    "\n",
    "#h_weighted = Dot(axes=(1, 1))([a_t, gru1])\n",
    "\n",
    "gru_shuffled = Permute([2, 1])(gru1)\n",
    "\n",
    "h_weighted = Lambda(lambda x: K.batch_dot(x[0], x[1]))([gru_shuffled, a_t])\n",
    "#h_weighted = K.batch_dot(gru_shuffled, a_t)\n",
    "\n",
    "#x_t = Dot(axes=(2,2))([u_t, u_c_repeated])\n",
    "#a_t = Activation('softmax')(x_t)\n",
    "\n",
    "softmax = Dense(categories, activation='softmax')(h_weighted)\n",
    "\n",
    "gru_model = Model(inputs=sentences, outputs=softmax)\n",
    "gru_model.summary()"
   ]
  },
  {
   "cell_type": "code",
   "execution_count": 65,
   "metadata": {},
   "outputs": [
    {
     "data": {
      "text/plain": [
       "array([[0.12640281, 0.12690303, 0.12647498, 0.12246154, 0.12528576,\n",
       "        0.12535304, 0.12491726, 0.12220164]], dtype=float32)"
      ]
     },
     "execution_count": 65,
     "metadata": {},
     "output_type": "execute_result"
    }
   ],
   "source": [
    "gru_model.predict(X_train[0:1])"
   ]
  },
  {
   "cell_type": "code",
   "execution_count": 88,
   "metadata": {},
   "outputs": [],
   "source": [
    "gru_model.compile(Adam(0.0001), loss='categorical_crossentropy', metrics=['accuracy'])"
   ]
  },
  {
   "cell_type": "code",
   "execution_count": 89,
   "metadata": {},
   "outputs": [
    {
     "name": "stdout",
     "output_type": "stream",
     "text": [
      "Train on 16262 samples, validate on 16310 samples\n",
      "Epoch 1/40\n",
      " 1664/16262 [==>...........................] - ETA: 2:21 - loss: 1.7143 - acc: 0.5234"
     ]
    },
    {
     "ename": "KeyboardInterrupt",
     "evalue": "",
     "output_type": "error",
     "traceback": [
      "\u001b[1;31m---------------------------------------------------------------------------\u001b[0m",
      "\u001b[1;31mKeyboardInterrupt\u001b[0m                         Traceback (most recent call last)",
      "\u001b[1;32m<ipython-input-89-3514f5b19bb8>\u001b[0m in \u001b[0;36m<module>\u001b[1;34m()\u001b[0m\n\u001b[1;32m----> 1\u001b[1;33m \u001b[0mgru_model\u001b[0m\u001b[1;33m.\u001b[0m\u001b[0mfit\u001b[0m\u001b[1;33m(\u001b[0m\u001b[0mx\u001b[0m\u001b[1;33m=\u001b[0m\u001b[0mX_train\u001b[0m\u001b[1;33m,\u001b[0m \u001b[0my\u001b[0m\u001b[1;33m=\u001b[0m\u001b[0my_train\u001b[0m\u001b[1;33m,\u001b[0m \u001b[0mbatch_size\u001b[0m\u001b[1;33m=\u001b[0m\u001b[1;36m32\u001b[0m\u001b[1;33m,\u001b[0m \u001b[0mepochs\u001b[0m\u001b[1;33m=\u001b[0m\u001b[1;36m40\u001b[0m\u001b[1;33m,\u001b[0m \u001b[0mvalidation_data\u001b[0m\u001b[1;33m=\u001b[0m\u001b[1;33m(\u001b[0m\u001b[0mX_test\u001b[0m\u001b[1;33m,\u001b[0m \u001b[0my_test\u001b[0m\u001b[1;33m)\u001b[0m\u001b[1;33m)\u001b[0m\u001b[1;33m\u001b[0m\u001b[0m\n\u001b[0m",
      "\u001b[1;32m~\\Anaconda3\\envs\\dl\\lib\\site-packages\\keras\\engine\\training.py\u001b[0m in \u001b[0;36mfit\u001b[1;34m(self, x, y, batch_size, epochs, verbose, callbacks, validation_split, validation_data, shuffle, class_weight, sample_weight, initial_epoch, steps_per_epoch, validation_steps, **kwargs)\u001b[0m\n\u001b[0;32m   1703\u001b[0m                               \u001b[0minitial_epoch\u001b[0m\u001b[1;33m=\u001b[0m\u001b[0minitial_epoch\u001b[0m\u001b[1;33m,\u001b[0m\u001b[1;33m\u001b[0m\u001b[0m\n\u001b[0;32m   1704\u001b[0m                               \u001b[0msteps_per_epoch\u001b[0m\u001b[1;33m=\u001b[0m\u001b[0msteps_per_epoch\u001b[0m\u001b[1;33m,\u001b[0m\u001b[1;33m\u001b[0m\u001b[0m\n\u001b[1;32m-> 1705\u001b[1;33m                               validation_steps=validation_steps)\n\u001b[0m\u001b[0;32m   1706\u001b[0m \u001b[1;33m\u001b[0m\u001b[0m\n\u001b[0;32m   1707\u001b[0m     def evaluate(self, x=None, y=None,\n",
      "\u001b[1;32m~\\Anaconda3\\envs\\dl\\lib\\site-packages\\keras\\engine\\training.py\u001b[0m in \u001b[0;36m_fit_loop\u001b[1;34m(self, f, ins, out_labels, batch_size, epochs, verbose, callbacks, val_f, val_ins, shuffle, callback_metrics, initial_epoch, steps_per_epoch, validation_steps)\u001b[0m\n\u001b[0;32m   1233\u001b[0m                         \u001b[0mins_batch\u001b[0m\u001b[1;33m[\u001b[0m\u001b[0mi\u001b[0m\u001b[1;33m]\u001b[0m \u001b[1;33m=\u001b[0m \u001b[0mins_batch\u001b[0m\u001b[1;33m[\u001b[0m\u001b[0mi\u001b[0m\u001b[1;33m]\u001b[0m\u001b[1;33m.\u001b[0m\u001b[0mtoarray\u001b[0m\u001b[1;33m(\u001b[0m\u001b[1;33m)\u001b[0m\u001b[1;33m\u001b[0m\u001b[0m\n\u001b[0;32m   1234\u001b[0m \u001b[1;33m\u001b[0m\u001b[0m\n\u001b[1;32m-> 1235\u001b[1;33m                     \u001b[0mouts\u001b[0m \u001b[1;33m=\u001b[0m \u001b[0mf\u001b[0m\u001b[1;33m(\u001b[0m\u001b[0mins_batch\u001b[0m\u001b[1;33m)\u001b[0m\u001b[1;33m\u001b[0m\u001b[0m\n\u001b[0m\u001b[0;32m   1236\u001b[0m                     \u001b[1;32mif\u001b[0m \u001b[1;32mnot\u001b[0m \u001b[0misinstance\u001b[0m\u001b[1;33m(\u001b[0m\u001b[0mouts\u001b[0m\u001b[1;33m,\u001b[0m \u001b[0mlist\u001b[0m\u001b[1;33m)\u001b[0m\u001b[1;33m:\u001b[0m\u001b[1;33m\u001b[0m\u001b[0m\n\u001b[0;32m   1237\u001b[0m                         \u001b[0mouts\u001b[0m \u001b[1;33m=\u001b[0m \u001b[1;33m[\u001b[0m\u001b[0mouts\u001b[0m\u001b[1;33m]\u001b[0m\u001b[1;33m\u001b[0m\u001b[0m\n",
      "\u001b[1;32m~\\Anaconda3\\envs\\dl\\lib\\site-packages\\keras\\backend\\tensorflow_backend.py\u001b[0m in \u001b[0;36m__call__\u001b[1;34m(self, inputs)\u001b[0m\n\u001b[0;32m   2476\u001b[0m         \u001b[0msession\u001b[0m \u001b[1;33m=\u001b[0m \u001b[0mget_session\u001b[0m\u001b[1;33m(\u001b[0m\u001b[1;33m)\u001b[0m\u001b[1;33m\u001b[0m\u001b[0m\n\u001b[0;32m   2477\u001b[0m         updated = session.run(fetches=fetches, feed_dict=feed_dict,\n\u001b[1;32m-> 2478\u001b[1;33m                               **self.session_kwargs)\n\u001b[0m\u001b[0;32m   2479\u001b[0m         \u001b[1;32mreturn\u001b[0m \u001b[0mupdated\u001b[0m\u001b[1;33m[\u001b[0m\u001b[1;33m:\u001b[0m\u001b[0mlen\u001b[0m\u001b[1;33m(\u001b[0m\u001b[0mself\u001b[0m\u001b[1;33m.\u001b[0m\u001b[0moutputs\u001b[0m\u001b[1;33m)\u001b[0m\u001b[1;33m]\u001b[0m\u001b[1;33m\u001b[0m\u001b[0m\n\u001b[0;32m   2480\u001b[0m \u001b[1;33m\u001b[0m\u001b[0m\n",
      "\u001b[1;32m~\\Anaconda3\\envs\\dl\\lib\\site-packages\\tensorflow\\python\\client\\session.py\u001b[0m in \u001b[0;36mrun\u001b[1;34m(self, fetches, feed_dict, options, run_metadata)\u001b[0m\n\u001b[0;32m    787\u001b[0m     \u001b[1;32mtry\u001b[0m\u001b[1;33m:\u001b[0m\u001b[1;33m\u001b[0m\u001b[0m\n\u001b[0;32m    788\u001b[0m       result = self._run(None, fetches, feed_dict, options_ptr,\n\u001b[1;32m--> 789\u001b[1;33m                          run_metadata_ptr)\n\u001b[0m\u001b[0;32m    790\u001b[0m       \u001b[1;32mif\u001b[0m \u001b[0mrun_metadata\u001b[0m\u001b[1;33m:\u001b[0m\u001b[1;33m\u001b[0m\u001b[0m\n\u001b[0;32m    791\u001b[0m         \u001b[0mproto_data\u001b[0m \u001b[1;33m=\u001b[0m \u001b[0mtf_session\u001b[0m\u001b[1;33m.\u001b[0m\u001b[0mTF_GetBuffer\u001b[0m\u001b[1;33m(\u001b[0m\u001b[0mrun_metadata_ptr\u001b[0m\u001b[1;33m)\u001b[0m\u001b[1;33m\u001b[0m\u001b[0m\n",
      "\u001b[1;32m~\\Anaconda3\\envs\\dl\\lib\\site-packages\\tensorflow\\python\\client\\session.py\u001b[0m in \u001b[0;36m_run\u001b[1;34m(self, handle, fetches, feed_dict, options, run_metadata)\u001b[0m\n\u001b[0;32m    995\u001b[0m     \u001b[1;32mif\u001b[0m \u001b[0mfinal_fetches\u001b[0m \u001b[1;32mor\u001b[0m \u001b[0mfinal_targets\u001b[0m\u001b[1;33m:\u001b[0m\u001b[1;33m\u001b[0m\u001b[0m\n\u001b[0;32m    996\u001b[0m       results = self._do_run(handle, final_targets, final_fetches,\n\u001b[1;32m--> 997\u001b[1;33m                              feed_dict_string, options, run_metadata)\n\u001b[0m\u001b[0;32m    998\u001b[0m     \u001b[1;32melse\u001b[0m\u001b[1;33m:\u001b[0m\u001b[1;33m\u001b[0m\u001b[0m\n\u001b[0;32m    999\u001b[0m       \u001b[0mresults\u001b[0m \u001b[1;33m=\u001b[0m \u001b[1;33m[\u001b[0m\u001b[1;33m]\u001b[0m\u001b[1;33m\u001b[0m\u001b[0m\n",
      "\u001b[1;32m~\\Anaconda3\\envs\\dl\\lib\\site-packages\\tensorflow\\python\\client\\session.py\u001b[0m in \u001b[0;36m_do_run\u001b[1;34m(self, handle, target_list, fetch_list, feed_dict, options, run_metadata)\u001b[0m\n\u001b[0;32m   1130\u001b[0m     \u001b[1;32mif\u001b[0m \u001b[0mhandle\u001b[0m \u001b[1;32mis\u001b[0m \u001b[1;32mNone\u001b[0m\u001b[1;33m:\u001b[0m\u001b[1;33m\u001b[0m\u001b[0m\n\u001b[0;32m   1131\u001b[0m       return self._do_call(_run_fn, self._session, feed_dict, fetch_list,\n\u001b[1;32m-> 1132\u001b[1;33m                            target_list, options, run_metadata)\n\u001b[0m\u001b[0;32m   1133\u001b[0m     \u001b[1;32melse\u001b[0m\u001b[1;33m:\u001b[0m\u001b[1;33m\u001b[0m\u001b[0m\n\u001b[0;32m   1134\u001b[0m       return self._do_call(_prun_fn, self._session, handle, feed_dict,\n",
      "\u001b[1;32m~\\Anaconda3\\envs\\dl\\lib\\site-packages\\tensorflow\\python\\client\\session.py\u001b[0m in \u001b[0;36m_do_call\u001b[1;34m(self, fn, *args)\u001b[0m\n\u001b[0;32m   1137\u001b[0m   \u001b[1;32mdef\u001b[0m \u001b[0m_do_call\u001b[0m\u001b[1;33m(\u001b[0m\u001b[0mself\u001b[0m\u001b[1;33m,\u001b[0m \u001b[0mfn\u001b[0m\u001b[1;33m,\u001b[0m \u001b[1;33m*\u001b[0m\u001b[0margs\u001b[0m\u001b[1;33m)\u001b[0m\u001b[1;33m:\u001b[0m\u001b[1;33m\u001b[0m\u001b[0m\n\u001b[0;32m   1138\u001b[0m     \u001b[1;32mtry\u001b[0m\u001b[1;33m:\u001b[0m\u001b[1;33m\u001b[0m\u001b[0m\n\u001b[1;32m-> 1139\u001b[1;33m       \u001b[1;32mreturn\u001b[0m \u001b[0mfn\u001b[0m\u001b[1;33m(\u001b[0m\u001b[1;33m*\u001b[0m\u001b[0margs\u001b[0m\u001b[1;33m)\u001b[0m\u001b[1;33m\u001b[0m\u001b[0m\n\u001b[0m\u001b[0;32m   1140\u001b[0m     \u001b[1;32mexcept\u001b[0m \u001b[0merrors\u001b[0m\u001b[1;33m.\u001b[0m\u001b[0mOpError\u001b[0m \u001b[1;32mas\u001b[0m \u001b[0me\u001b[0m\u001b[1;33m:\u001b[0m\u001b[1;33m\u001b[0m\u001b[0m\n\u001b[0;32m   1141\u001b[0m       \u001b[0mmessage\u001b[0m \u001b[1;33m=\u001b[0m \u001b[0mcompat\u001b[0m\u001b[1;33m.\u001b[0m\u001b[0mas_text\u001b[0m\u001b[1;33m(\u001b[0m\u001b[0me\u001b[0m\u001b[1;33m.\u001b[0m\u001b[0mmessage\u001b[0m\u001b[1;33m)\u001b[0m\u001b[1;33m\u001b[0m\u001b[0m\n",
      "\u001b[1;32m~\\Anaconda3\\envs\\dl\\lib\\site-packages\\tensorflow\\python\\client\\session.py\u001b[0m in \u001b[0;36m_run_fn\u001b[1;34m(session, feed_dict, fetch_list, target_list, options, run_metadata)\u001b[0m\n\u001b[0;32m   1119\u001b[0m         return tf_session.TF_Run(session, options,\n\u001b[0;32m   1120\u001b[0m                                  \u001b[0mfeed_dict\u001b[0m\u001b[1;33m,\u001b[0m \u001b[0mfetch_list\u001b[0m\u001b[1;33m,\u001b[0m \u001b[0mtarget_list\u001b[0m\u001b[1;33m,\u001b[0m\u001b[1;33m\u001b[0m\u001b[0m\n\u001b[1;32m-> 1121\u001b[1;33m                                  status, run_metadata)\n\u001b[0m\u001b[0;32m   1122\u001b[0m \u001b[1;33m\u001b[0m\u001b[0m\n\u001b[0;32m   1123\u001b[0m     \u001b[1;32mdef\u001b[0m \u001b[0m_prun_fn\u001b[0m\u001b[1;33m(\u001b[0m\u001b[0msession\u001b[0m\u001b[1;33m,\u001b[0m \u001b[0mhandle\u001b[0m\u001b[1;33m,\u001b[0m \u001b[0mfeed_dict\u001b[0m\u001b[1;33m,\u001b[0m \u001b[0mfetch_list\u001b[0m\u001b[1;33m)\u001b[0m\u001b[1;33m:\u001b[0m\u001b[1;33m\u001b[0m\u001b[0m\n",
      "\u001b[1;31mKeyboardInterrupt\u001b[0m: "
     ]
    }
   ],
   "source": [
    "gru_model.fit(x=X_train, y=y_train, batch_size=32, epochs=40, validation_data=(X_test, y_test))"
   ]
  },
  {
   "cell_type": "code",
   "execution_count": 78,
   "metadata": {},
   "outputs": [
    {
     "name": "stderr",
     "output_type": "stream",
     "text": [
      "C:\\Users\\haika\\Anaconda3\\envs\\dl\\lib\\site-packages\\sklearn\\metrics\\classification.py:1135: UndefinedMetricWarning: F-score is ill-defined and being set to 0.0 in labels with no predicted samples.\n",
      "  'precision', 'predicted', average, warn_for)\n"
     ]
    },
    {
     "data": {
      "text/plain": [
       "0.8610506528210605"
      ]
     },
     "execution_count": 78,
     "metadata": {},
     "output_type": "execute_result"
    }
   ],
   "source": [
    "keras_f1(y_test, gru_model.predict(X_test))"
   ]
  },
  {
   "cell_type": "code",
   "execution_count": 90,
   "metadata": {},
   "outputs": [
    {
     "data": {
      "text/plain": [
       "array([[0., 0., 0., ..., 0., 0., 1.],\n",
       "       [0., 0., 0., ..., 0., 0., 1.],\n",
       "       [0., 0., 0., ..., 0., 0., 1.],\n",
       "       ...,\n",
       "       [0., 0., 0., ..., 0., 1., 0.],\n",
       "       [0., 0., 0., ..., 0., 0., 1.],\n",
       "       [0., 0., 0., ..., 0., 0., 1.]])"
      ]
     },
     "execution_count": 90,
     "metadata": {},
     "output_type": "execute_result"
    }
   ],
   "source": [
    "y_test"
   ]
  },
  {
   "cell_type": "code",
   "execution_count": 12,
   "metadata": {},
   "outputs": [],
   "source": [
    "deepdive = pd.read_csv('deepdive-bootcamp.csv')\n",
    "rio = pd.read_csv('rio_kb_article_dataset.csv',encoding='latin1')"
   ]
  },
  {
   "cell_type": "code",
   "execution_count": 21,
   "metadata": {},
   "outputs": [
    {
     "data": {
      "text/plain": [
       "array([nan, 'Application', 'Access Issues / Security Enablement', 'H/W',\n",
       "       'S/W', 'N/W', 'Job Failures'], dtype=object)"
      ]
     },
     "execution_count": 21,
     "metadata": {},
     "output_type": "execute_result"
    }
   ],
   "source": [
    "deepdive.Category.unique()"
   ]
  },
  {
   "cell_type": "code",
   "execution_count": null,
   "metadata": {},
   "outputs": [],
   "source": []
  },
  {
   "cell_type": "code",
   "execution_count": 17,
   "metadata": {},
   "outputs": [
    {
     "data": {
      "text/plain": [
       "User Access    4178\n",
       "Software       2576\n",
       "Hardware        107\n",
       "Network          76\n",
       "Information      18\n",
       "Other            15\n",
       "Database          7\n",
       "Backup            3\n",
       "Name: category, dtype: int64"
      ]
     },
     "execution_count": 17,
     "metadata": {},
     "output_type": "execute_result"
    }
   ],
   "source": [
    "rio.category.value_counts()"
   ]
  },
  {
   "cell_type": "code",
   "execution_count": null,
   "metadata": {},
   "outputs": [],
   "source": []
  },
  {
   "cell_type": "code",
   "execution_count": null,
   "metadata": {},
   "outputs": [],
   "source": []
  },
  {
   "cell_type": "code",
   "execution_count": null,
   "metadata": {},
   "outputs": [],
   "source": []
  },
  {
   "cell_type": "code",
   "execution_count": null,
   "metadata": {},
   "outputs": [],
   "source": []
  },
  {
   "cell_type": "code",
   "execution_count": null,
   "metadata": {},
   "outputs": [],
   "source": []
  }
 ],
 "metadata": {
  "kernelspec": {
   "display_name": "dl",
   "language": "python",
   "name": "dl"
  },
  "language_info": {
   "codemirror_mode": {
    "name": "ipython",
    "version": 3
   },
   "file_extension": ".py",
   "mimetype": "text/x-python",
   "name": "python",
   "nbconvert_exporter": "python",
   "pygments_lexer": "ipython3",
   "version": "3.6.5"
  }
 },
 "nbformat": 4,
 "nbformat_minor": 2
}
